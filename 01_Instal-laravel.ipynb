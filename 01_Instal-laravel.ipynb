{
 "cells": [
  {
   "cell_type": "markdown",
   "id": "5ad3edbf",
   "metadata": {},
   "source": [
    "# Instalasi Laravel"
   ]
  },
  {
   "cell_type": "markdown",
   "id": "7e01da5b",
   "metadata": {},
   "source": [
    "### Kebutuhan Program"
   ]
  },
  {
   "cell_type": "markdown",
   "id": "5f444c38",
   "metadata": {},
   "source": [
    "Beberapa kebutuhan yang perlu diinstal:\n",
    "- PHP & MySQL ([Link XAMPP](https://www.apachefriends.org/download.html))\n",
    "- Composer [Link Composer](https://getcomposer.org/Composer-Setup.exe)\n",
    "- Visual Studio Code/Notepad++/Sublime (Editor)"
   ]
  },
  {
   "cell_type": "markdown",
   "id": "3cb6a819",
   "metadata": {},
   "source": [
    "### Proses Instalasi"
   ]
  },
  {
   "attachments": {},
   "cell_type": "markdown",
   "id": "e09bd763",
   "metadata": {},
   "source": [
    "Untuk memulai perintah instalasi silakan lakukan beberapa perintah berikut ini:\n",
    "1. Masuk ke terminal kita.\n",
    "2. Buat folder di mana kita akan meletakkan project kita. Misalnya kita buat folder di D:/LARAVEL9. Maka kita masukkan perintah ke dalam terminal:  \n",
    "<code>mkdir \"D:/LARAVEL9\"</code>\n",
    "3. Masuk ke folder tersebut dengan perintah melalui terminal:  \n",
    "    <code>D:/ && CD \"D:/LARAVEL9\"</code>  \n",
    "4. Pastikan Composer sudah bisa digunakan dengan baik. Kemudian jalankan melalui terminal kita:  \n",
    "<code>composer create-project laravel/laravel .</code>  \n",
    "Tanda titik (.) di bagian belakang perintah, menandakan bahwa kita akan melakukan instalasi Laravel di direktori kita sekarang, tanpa membuat folder baru\n",
    "5. Jalankan Laravel melalui terminal dengan perintah:    \n",
    "<code>php artisan serve</code>\n",
    "6. Dan selamat!! Akhirnya Laravel sudah bisa berjalan di Laptop/Komputer kita :) "
   ]
  }
 ],
 "metadata": {
  "kernelspec": {
   "display_name": "Python 3 (ipykernel)",
   "language": "python",
   "name": "python3"
  },
  "language_info": {
   "codemirror_mode": {
    "name": "ipython",
    "version": 3
   },
   "file_extension": ".py",
   "mimetype": "text/x-python",
   "name": "python",
   "nbconvert_exporter": "python",
   "pygments_lexer": "ipython3",
   "version": "3.10.4"
  }
 },
 "nbformat": 4,
 "nbformat_minor": 5
}
