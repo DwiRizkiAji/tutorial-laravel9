{
 "cells": [
  {
   "cell_type": "markdown",
   "id": "6bdfe35a",
   "metadata": {},
   "source": [
    "# &#9989; Mengambil data dari database dengan ELOQUENT"
   ]
  },
  {
   "cell_type": "markdown",
   "id": "99863697",
   "metadata": {},
   "source": [
    "Misalnya dibuat model baru. Model siswa:  \n",
    "\n",
    "<code>php artisan make:model siswa</code>"
   ]
  },
  {
   "cell_type": "markdown",
   "id": "1d61b5ad",
   "metadata": {},
   "source": [
    "cek di lokasi **app/models/** akan ada file baru, sesuai dengan nama model yang dibuat"
   ]
  },
  {
   "cell_type": "markdown",
   "id": "b8f055cd",
   "metadata": {},
   "source": [
    "Akses dari **controller** untuk mengambil data"
   ]
  },
  {
   "cell_type": "code",
   "execution_count": null,
   "id": "f7802793",
   "metadata": {},
   "outputs": [],
   "source": [
    "use App\\Models\\siswa;\n",
    "...\n",
    "function index()\n",
    "{\n",
    "    $data = siswa::orderBy('nomor_induk', 'desc')->paginate(1);\n",
    "    return view('siswa/index')->with('data', $data);\n",
    "}\n",
    "function detail($id)\n",
    "{\n",
    "    $data = siswa::where('nomor_induk', $id)->first();\n",
    "    return view('siswa/show')->with('data', $data);\n",
    "}\n",
    "..."
   ]
  },
  {
   "cell_type": "markdown",
   "id": "7fd44c1a",
   "metadata": {},
   "source": [
    "Cek di lokasi **app/providers/AppServiceProvider** tambahkan script di bawah untuk load styling bootstrap 5 di halaman"
   ]
  },
  {
   "cell_type": "code",
   "execution_count": null,
   "id": "1b01d9e9",
   "metadata": {},
   "outputs": [],
   "source": [
    "...\n",
    "public function boot()\n",
    "{\n",
    "    //\n",
    "    Paginator::useBootstrapFive();\n",
    "}\n",
    "..."
   ]
  },
  {
   "cell_type": "markdown",
   "id": "150eed8a",
   "metadata": {},
   "source": [
    "Sesuaikan di bagian blade untuk menampilkan halaman"
   ]
  },
  {
   "cell_type": "code",
   "execution_count": null,
   "id": "e84808c7",
   "metadata": {},
   "outputs": [],
   "source": [
    "@section('namasection')\n",
    "...\n",
    "{{ $data->links() }}\n",
    "...\n",
    "@endsection"
   ]
  }
 ],
 "metadata": {
  "kernelspec": {
   "display_name": "Python 3 (ipykernel)",
   "language": "python",
   "name": "python3"
  },
  "language_info": {
   "codemirror_mode": {
    "name": "ipython",
    "version": 3
   },
   "file_extension": ".py",
   "mimetype": "text/x-python",
   "name": "python",
   "nbconvert_exporter": "python",
   "pygments_lexer": "ipython3",
   "version": "3.10.4"
  }
 },
 "nbformat": 4,
 "nbformat_minor": 5
}
