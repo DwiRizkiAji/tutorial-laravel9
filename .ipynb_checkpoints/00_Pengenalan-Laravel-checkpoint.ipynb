{
 "cells": [
  {
   "cell_type": "markdown",
   "id": "c0cec5d3",
   "metadata": {},
   "source": [
    "# Pengenalan Laravel"
   ]
  },
  {
   "cell_type": "markdown",
   "id": "0ba5d875",
   "metadata": {},
   "source": [
    "## Apa Itu Laravel?"
   ]
  },
  {
   "cell_type": "markdown",
   "id": "03d7ea25",
   "metadata": {},
   "source": [
    "Secara umum Laravel merupakan Framework PHP yang digunakan untuk membuat web site"
   ]
  },
  {
   "cell_type": "code",
   "execution_count": null,
   "id": "ff2a638a",
   "metadata": {},
   "outputs": [],
   "source": []
  },
  {
   "cell_type": "code",
   "execution_count": null,
   "id": "03c40208",
   "metadata": {},
   "outputs": [],
   "source": []
  }
 ],
 "metadata": {
  "kernelspec": {
   "display_name": "Python 3 (ipykernel)",
   "language": "python",
   "name": "python3"
  },
  "language_info": {
   "codemirror_mode": {
    "name": "ipython",
    "version": 3
   },
   "file_extension": ".py",
   "mimetype": "text/x-python",
   "name": "python",
   "nbconvert_exporter": "python",
   "pygments_lexer": "ipython3",
   "version": "3.10.4"
  }
 },
 "nbformat": 4,
 "nbformat_minor": 5
}
