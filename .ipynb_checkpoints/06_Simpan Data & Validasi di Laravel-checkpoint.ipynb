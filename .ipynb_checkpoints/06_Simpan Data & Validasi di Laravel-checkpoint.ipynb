{
 "cells": [
  {
   "cell_type": "markdown",
   "id": "6fb75e76",
   "metadata": {},
   "source": [
    "# &#9989; Simpan Data & Validasi di Laravel 9"
   ]
  },
  {
   "cell_type": "markdown",
   "id": "236be936",
   "metadata": {},
   "source": [
    "Masukkan di terminal dengan perintah:  \n",
    "\n",
    "<code>php artisan make:controller SiswaController —resource</code>\n",
    "\n",
    "digunakan untuk untuk memudahkan CRUD."
   ]
  },
  {
   "cell_type": "markdown",
   "id": "53d76061",
   "metadata": {},
   "source": [
    "Ubah route:  \n",
    "\n",
    "<code>use \\App\\Http\\Controllers\\SiswaController;</code>  \n",
    "<code>Route::resource('siswa', SiswaController::class);</code>"
   ]
  },
  {
   "cell_type": "markdown",
   "id": "43e940ac",
   "metadata": {},
   "source": [
    "Cek bisa dengan menggunakan perintah di terminal:  \n",
    "\n",
    "<code>php artisan route:list</code>"
   ]
  },
  {
   "cell_type": "markdown",
   "id": "7b8d8b92",
   "metadata": {},
   "source": [
    "Contoh proses di **CONTROLLER** fungsi store"
   ]
  },
  {
   "cell_type": "code",
   "execution_count": null,
   "id": "13b3c133",
   "metadata": {},
   "outputs": [],
   "source": [
    "...\n",
    "public function store(Request $request)\n",
    "{\n",
    "    Session::flash('nomor_induk', $request->nomor_induk);\n",
    "    Session::flash('nama', $request->nama);\n",
    "    Session::flash('alamat', $request->alamat);\n",
    "\n",
    "\n",
    "    $request->validate([\n",
    "        'nomor_induk' => 'required|numeric',\n",
    "        'nama' => 'required',\n",
    "        'alamat' => 'required'\n",
    "    ], [\n",
    "        'nomor_induk.required' => 'Silakan masukkan nomor induk',\n",
    "        'nomor_induk.numeric' => 'Silakan masukkan nomor induk dalam angka',\n",
    "        'nama.required' => 'Silakan masukkan nama',\n",
    "        'alamat.required' => 'Silakan masukkan alamat',\n",
    "    ]);\n",
    "\n",
    "    $data = [\n",
    "        'nomor_induk' => $request->input('nomor_induk'),\n",
    "        'nama' => $request->input('nama'),\n",
    "        'alamat' => $request->input('alamat'),\n",
    "    ];\n",
    "    Siswa::create($data);\n",
    "\n",
    "    return redirect('/siswa')->with('success', 'Berhasil simpan data');\n",
    "}\n",
    "..."
   ]
  },
  {
   "cell_type": "markdown",
   "id": "b6bfceef",
   "metadata": {},
   "source": [
    "Untuk menampilkan pesan di blade bisa dengan:"
   ]
  },
  {
   "cell_type": "code",
   "execution_count": null,
   "id": "67d9b63b",
   "metadata": {},
   "outputs": [],
   "source": [
    "@if ($errors->any())\n",
    "    <div class=\"alert alert-danger\">\n",
    "        <ul>\n",
    "            @foreach ($errors->all() as $item)\n",
    "                <li>{{ $item }}</li>\n",
    "            @endforeach\n",
    "        </ul>\n",
    "    </div>\n",
    "@endif\n",
    "\n",
    "@if (Session::get('success'))\n",
    "    <div class=\"alert alert-success\">\n",
    "        {{ Session::get('success') }}\n",
    "    </div>\n",
    "@endif"
   ]
  },
  {
   "cell_type": "markdown",
   "id": "1eb4fab4",
   "metadata": {},
   "source": [
    "Untuk membuat form di **BLADE** bisa dengan contoh:"
   ]
  },
  {
   "cell_type": "code",
   "execution_count": null,
   "id": "8dc5c995",
   "metadata": {},
   "outputs": [],
   "source": [
    "...\n",
    "<form action=\"/siswa\" method=\"post\">\n",
    "    @csrf\n",
    "    <div class=\"mb-3\">\n",
    "        <label for=\"nomor_induk\" class=\"form-label\">Nomor Induk</label>\n",
    "        <input type=\"text\" class=\"form-control\" id=\"nomor_induk\" value=\"{{ Session::get('nomor_induk') }}\" name=\"nomor_induk\">\n",
    "      </div>\n",
    "      <div class=\"mb-3\">\n",
    "        <label for=\"nama\" class=\"form-label\">Nama</label>\n",
    "        <input type=\"text\" class=\"form-control\" id=\"nama\" value=\"{{ Session::get('nama') }}\" name=\"nama\">\n",
    "      </div>\n",
    "      <div class=\"mb-3\">\n",
    "        <label for=\"alamat\" class=\"form-label\">Alamat</label>\n",
    "        <textarea class=\"form-control\" id=\"alamat\" name='alamat' rows=\"3\">{{ Session::get('alamat') }}</textarea>\n",
    "      </div>\n",
    "      <div class=\"mb-3\">\n",
    "        <button type=\"submit\" class=\"btn btn-primary\">SIMPAN</button>\n",
    "      </div>\n",
    "</form>\n",
    "..."
   ]
  }
 ],
 "metadata": {
  "kernelspec": {
   "display_name": "Python 3 (ipykernel)",
   "language": "python",
   "name": "python3"
  },
  "language_info": {
   "codemirror_mode": {
    "name": "ipython",
    "version": 3
   },
   "file_extension": ".py",
   "mimetype": "text/x-python",
   "name": "python",
   "nbconvert_exporter": "python",
   "pygments_lexer": "ipython3",
   "version": "3.10.4"
  }
 },
 "nbformat": 4,
 "nbformat_minor": 5
}
