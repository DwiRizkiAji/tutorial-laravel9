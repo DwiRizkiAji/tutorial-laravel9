{
 "cells": [
  {
   "cell_type": "markdown",
   "id": "94d467e0",
   "metadata": {},
   "source": [
    "# &#9989; Routing & Controller di Laravel 9"
   ]
  },
  {
   "cell_type": "markdown",
   "id": "179200c8",
   "metadata": {},
   "source": [
    "## &#128304; Route"
   ]
  },
  {
   "cell_type": "markdown",
   "id": "2b6f859b",
   "metadata": {},
   "source": [
    "Lokasi route terletak di **app/routes/web.php**"
   ]
  },
  {
   "cell_type": "raw",
   "id": "a751f36a",
   "metadata": {},
   "source": [
    "...\n",
    "Route::get('/siswa/{id}/{nama}', function ($id, $nama) {\n",
    "    return '<h1>Halo saya adalah siswa dengan id ' . $id . ' dan nama ' . $nama . '</h1>';\n",
    "})->where(['id' => '[0-9]+', 'nama' => '[A-Za-z]+']);\n",
    "..."
   ]
  },
  {
   "cell_type": "markdown",
   "id": "b78b2d19",
   "metadata": {},
   "source": [
    "atau kalau merujuk ke Controller tertentu"
   ]
  },
  {
   "cell_type": "raw",
   "id": "f22ddbab",
   "metadata": {},
   "source": [
    "...\n",
    "use \\App\\Http\\Controllers\\NamaController;\n",
    "Route::get('namaRoute/{id}', [NamaController::class, 'namaMethod'])->where('id', '[0-9]+');\n",
    "..."
   ]
  },
  {
   "cell_type": "markdown",
   "id": "071a3f9e",
   "metadata": {},
   "source": [
    "Cek route yang ada bisa menggunakan perintah di terminal:  \n",
    "\n",
    "<code>php artisan route:list</code>"
   ]
  },
  {
   "cell_type": "markdown",
   "id": "cb78287b",
   "metadata": {},
   "source": [
    "## &#128304; Controller"
   ]
  },
  {
   "cell_type": "markdown",
   "id": "e00a8bfc",
   "metadata": {},
   "source": [
    "Membuat Controller bisa dengan perintah:  \n",
    "    \n",
    "<code>php artisan make:controller namaController</code>"
   ]
  },
  {
   "cell_type": "markdown",
   "id": "a8c50999",
   "metadata": {},
   "source": [
    "Contoh isian fungsi di controller"
   ]
  },
  {
   "cell_type": "raw",
   "id": "dfc188f2",
   "metadata": {},
   "source": [
    "...\n",
    "public function index()\n",
    "{\n",
    "    return \"<h1>Saya Index</h1>\";\n",
    "}\n",
    "\n",
    "public function detail($id)\n",
    "{\n",
    "    return \"<h1>Saya Detail dengan id $id</h1>\";\n",
    "}\n",
    "..."
   ]
  }
 ],
 "metadata": {
  "kernelspec": {
   "display_name": "Python 3 (ipykernel)",
   "language": "python",
   "name": "python3"
  },
  "language_info": {
   "codemirror_mode": {
    "name": "ipython",
    "version": 3
   },
   "file_extension": ".py",
   "mimetype": "text/x-python",
   "name": "python",
   "nbconvert_exporter": "python",
   "pygments_lexer": "ipython3",
   "version": "3.10.4"
  }
 },
 "nbformat": 4,
 "nbformat_minor": 5
}
