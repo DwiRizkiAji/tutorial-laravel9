{
 "cells": [
  {
   "cell_type": "markdown",
   "id": "f63f0066",
   "metadata": {},
   "source": [
    "# &#9989; Upload Image dan Delete Data"
   ]
  },
  {
   "cell_type": "markdown",
   "id": "b1034b31",
   "metadata": {},
   "source": [
    "## &#128304; Create Form"
   ]
  },
  {
   "cell_type": "markdown",
   "id": "8d6e409d",
   "metadata": {},
   "source": [
    "Contoh form create"
   ]
  },
  {
   "cell_type": "code",
   "execution_count": null,
   "id": "c2c928f7",
   "metadata": {},
   "outputs": [],
   "source": [
    "<form action=\"/siswa\" method=\"post\" enctype=\"multipart/form-data\">\n",
    "    @csrf\n",
    "    ...\n",
    "  <div class=\"mb-3\">\n",
    "    <label for=\"foto\" class=\"form-label\">Foto</label>\n",
    "    <input type=\"file\" class=\"form-control\" name=\"foto\" id=\"foto\"/>\n",
    "  </div>\n",
    "  <div class=\"mb-3\">\n",
    "    <button type=\"submit\" class=\"btn btn-primary\">SIMPAN</button>\n",
    "  </div>\n",
    "</form>"
   ]
  },
  {
   "cell_type": "markdown",
   "id": "e9be2f98",
   "metadata": {},
   "source": [
    "Contoh Controller"
   ]
  },
  {
   "cell_type": "code",
   "execution_count": null,
   "id": "82f673d4",
   "metadata": {},
   "outputs": [],
   "source": [
    "...\n",
    "$foto_file = $request->file('foto');\n",
    "$foto_ekstensi = $foto_file->extension();\n",
    "$foto_nama = date('ymdhis') . '.' . $foto_ekstensi;\n",
    "$foto_file->move(public_path('foto'), $foto_nama);\n",
    "\n",
    "$data = [\n",
    "    'nomor_induk' => $request->input('nomor_induk'),\n",
    "    'nama' => $request->input('nama'),\n",
    "    'alamat' => $request->input('alamat'),\n",
    "    'foto' => $foto_nama\n",
    "];\n",
    "Siswa::create($data);\n",
    "..."
   ]
  },
  {
   "cell_type": "markdown",
   "id": "1572591f",
   "metadata": {},
   "source": [
    "## &#128304; Edit Form"
   ]
  },
  {
   "cell_type": "markdown",
   "id": "72224cb3",
   "metadata": {},
   "source": [
    "Contoh form edit foto"
   ]
  },
  {
   "cell_type": "code",
   "execution_count": null,
   "id": "1538ce09",
   "metadata": {},
   "outputs": [],
   "source": [
    "...\n",
    "@section('konten')\n",
    "    <a href='/siswa' class=\"btn btn-secondary\"><< Kembali</a>\n",
    "    <form action=\"{{ '/siswa/'.$data->nomor_induk }}\" method=\"post\" enctype=\"multipart/form-data\">\n",
    "        @csrf\n",
    "        @method('PUT')\n",
    "        ...\n",
    "      @if ($data->foto)\n",
    "      <div class=\"mb-3\">\n",
    "          <img style='max-height:50px;max-width:50px' src='{{ url('foto').'/'.$data->foto }}'/>\n",
    "      </div>\n",
    "      @endif\n",
    "      <div class=\"mb-3\">\n",
    "        <label for=\"foto\" class=\"form-label\">Foto</label>\n",
    "        <input type=\"file\" class=\"form-control\" name=\"foto\" id=\"foto\"/>\n",
    "      </div>\n",
    "      <div class=\"mb-3\">\n",
    "        <button type=\"submit\" class=\"btn btn-primary\">SIMPAN</button>\n",
    "      </div>\n",
    "    </form>\n",
    "@endsection\n",
    "..."
   ]
  },
  {
   "cell_type": "markdown",
   "id": "e81bd9aa",
   "metadata": {},
   "source": [
    "Contoh Controller"
   ]
  },
  {
   "cell_type": "code",
   "execution_count": null,
   "id": "a8f0a00c",
   "metadata": {},
   "outputs": [],
   "source": [
    "...\n",
    "if ($request->hasFile('foto')) {\n",
    "    $request->validate([\n",
    "        'foto' => 'mimes:jpeg,jpg,png,gif'\n",
    "    ], [\n",
    "        'foto.mimes' => 'Foto hanya diperbolehkan JPEG, JPG, PNG dan GIF'\n",
    "    ]);\n",
    "\n",
    "    $foto_file = $request->file('foto');\n",
    "    $foto_ekstensi = $foto_file->extension();\n",
    "    $foto_nama = date('ymdhis') . '.' . $foto_ekstensi;\n",
    "    $foto_file->move(public_path('foto'), $foto_nama);\n",
    "\n",
    "    $data_foto = Siswa::where('nomor_induk', $id)->first();\n",
    "    File::delete(public_path('foto') . '/' . $data_foto->foto);\n",
    "\n",
    "    $data = [\n",
    "        'foto' => $foto_nama\n",
    "    ];\n",
    "}\n",
    "\n",
    "Siswa::where('nomor_induk', $id)->update($data);\n",
    "..."
   ]
  },
  {
   "cell_type": "markdown",
   "id": "4372e8dc",
   "metadata": {},
   "source": [
    "## &#128304; Delete Data"
   ]
  },
  {
   "cell_type": "markdown",
   "id": "f0a42043",
   "metadata": {},
   "source": [
    "siapkan tombol untuk hapus data"
   ]
  },
  {
   "cell_type": "code",
   "execution_count": null,
   "id": "6a7a3bf2",
   "metadata": {},
   "outputs": [],
   "source": [
    "...\n",
    "<form onsubmit=\"return confirm('yakin mau hapus?')\" class=\"d-inline\" action=\"{{ '/siswa/'.$item->nomor_induk }}\" method=\"post\">@csrf @method('DELETE') <button type=\"submit\" class=\"btn btn-danger btn-sm\">Del</button>\n",
    ".."
   ]
  },
  {
   "cell_type": "markdown",
   "id": "c0bfd450",
   "metadata": {},
   "source": [
    "Fungsi untuk hapus data"
   ]
  },
  {
   "cell_type": "code",
   "execution_count": null,
   "id": "3beec3c4",
   "metadata": {},
   "outputs": [],
   "source": [
    "...\n",
    "public function destroy($id)\n",
    "{\n",
    "    $data = Siswa::where('nomor_induk', $id)->first();\n",
    "    File::delete(public_path('foto') . '/' . $data->foto);\n",
    "\n",
    "    Siswa::where('nomor_induk', $id)->delete();\n",
    "    return redirect('/siswa')->with('success', 'Berhasil hapus data');\n",
    "}\n",
    "..."
   ]
  }
 ],
 "metadata": {
  "kernelspec": {
   "display_name": "Python 3 (ipykernel)",
   "language": "python",
   "name": "python3"
  },
  "language_info": {
   "codemirror_mode": {
    "name": "ipython",
    "version": 3
   },
   "file_extension": ".py",
   "mimetype": "text/x-python",
   "name": "python",
   "nbconvert_exporter": "python",
   "pygments_lexer": "ipython3",
   "version": "3.10.4"
  }
 },
 "nbformat": 4,
 "nbformat_minor": 5
}
