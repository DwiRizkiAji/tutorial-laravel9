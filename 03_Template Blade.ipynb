{
 "cells": [
  {
   "cell_type": "markdown",
   "id": "1f1e4814",
   "metadata": {},
   "source": [
    "# &#9989; Template Blade Laravel 9"
   ]
  },
  {
   "cell_type": "markdown",
   "id": "a2d57f1b",
   "metadata": {},
   "source": [
    "Contoh isi Controller"
   ]
  },
  {
   "cell_type": "code",
   "execution_count": null,
   "id": "09eeb294",
   "metadata": {},
   "outputs": [],
   "source": [
    "...\n",
    "function index()\n",
    "{\n",
    "    $judul = \"HALAMAN DEPAN\";\n",
    "    return view('halaman/index')->with('judul', $judul);\n",
    "}\n",
    "function tentang()\n",
    "{\n",
    "    $judul = \"HALAMAN TENTANG\";\n",
    "    return view('halaman/tentang')->with('judul', $judul);\n",
    "}\n",
    "function kontak()\n",
    "{\n",
    "    $data = [\n",
    "        'judul' => \"HALAMAN KONTAK\",\n",
    "        'kontak' => [\n",
    "            'email' => 'dirumahrafif@gmail.com',\n",
    "            'youtube' => 'Programming di Rumahrafif'\n",
    "        ],\n",
    "    ];\n",
    "    return view('halaman/kontak')->with($data);\n",
    "}\n",
    "..."
   ]
  },
  {
   "cell_type": "markdown",
   "id": "82b24ade",
   "metadata": {},
   "source": [
    "Lokasi template ada di direktori **app/resources/views**"
   ]
  },
  {
   "cell_type": "markdown",
   "id": "ee021509",
   "metadata": {},
   "source": [
    "Misalnya di dalam folder Views\n",
    "- halaman\n",
    "    - index.blade.php\n",
    "    - kontak.blade.php\n",
    "    - tentang.blade.php\n",
    "- komponen\n",
    "    - menu.blade.php\n",
    "- layout\n",
    "    - aplikasi.blade.php"
   ]
  },
  {
   "cell_type": "markdown",
   "id": "0d4cd920",
   "metadata": {},
   "source": [
    "Contoh file **layout/aplikasi.blade.php**"
   ]
  },
  {
   "cell_type": "code",
   "execution_count": null,
   "id": "09d7679e",
   "metadata": {},
   "outputs": [],
   "source": [
    "<!DOCTYPE html>\n",
    "<html lang=\"en\">\n",
    "\n",
    "<head>\n",
    "    <meta charset=\"UTF-8\">\n",
    "    <meta http-equiv=\"X-UA-Compatible\" content=\"IE=edge\">\n",
    "    <meta name=\"viewport\" content=\"width=device-width, initial-scale=1.0\">\n",
    "    <link rel=\"stylesheet\" href=\"{{ asset('css/app.css') }}\">\n",
    "    <link href=\"https://cdn.jsdelivr.net/npm/bootstrap@5.0.2/dist/css/bootstrap.min.css\" rel=\"stylesheet\" integrity=\"sha384-EVSTQN3/azprG1Anm3QDgpJLIm9Nao0Yz1ztcQTwFspd3yD65VohhpuuCOmLASjC\" crossorigin=\"anonymous\">\n",
    "    <title>Document</title>\n",
    "</head>\n",
    "<body>\n",
    "    @include('komponen/menu')\n",
    "    <div class=\"container-sm\">@yield('konten')</div>    \n",
    "</body>\n",
    "\n",
    "</html>"
   ]
  },
  {
   "cell_type": "markdown",
   "id": "3ad42b55",
   "metadata": {},
   "source": [
    "Contoh file **komponen/menu.blade.php**"
   ]
  },
  {
   "cell_type": "code",
   "execution_count": null,
   "id": "4f43ceea",
   "metadata": {},
   "outputs": [],
   "source": [
    "<nav class=\"navbar navbar-expand-lg navbar-dark bg-dark\">\n",
    "    <div class=\"container-fluid\">\n",
    "      <a class=\"navbar-brand\" href=\"#\">Navbar w/ text</a>\n",
    "      <button class=\"navbar-toggler\" type=\"button\" data-bs-toggle=\"collapse\" data-bs-target=\"#navbarText\" aria-controls=\"navbarText\" aria-expanded=\"false\" aria-label=\"Toggle navigation\">\n",
    "        <span class=\"navbar-toggler-icon\"></span>\n",
    "      </button>\n",
    "      <div class=\"collapse navbar-collapse\" id=\"navbarText\">\n",
    "        <ul class=\"navbar-nav me-auto mb-2 mb-lg-0\">\n",
    "          <li class=\"nav-item\">\n",
    "            <a class=\"nav-link active\" aria-current=\"page\" href=\"/\">Home</a>\n",
    "          </li>\n",
    "          <li class=\"nav-item\">\n",
    "            <a class=\"nav-link\" href=\"/tentang\">Tentang</a>\n",
    "          </li>\n",
    "          <li class=\"nav-item\">\n",
    "            <a class=\"nav-link\" href=\"/kontak\">Kontak</a>\n",
    "          </li>\n",
    "        </ul>\n",
    "        <span class=\"navbar-text\">\n",
    "          Navbar text with an inline element\n",
    "        </span>\n",
    "      </div>\n",
    "    </div>\n",
    "  </nav>"
   ]
  },
  {
   "cell_type": "markdown",
   "id": "117419b9",
   "metadata": {},
   "source": [
    "Contoh file **index.blade.php**"
   ]
  },
  {
   "cell_type": "code",
   "execution_count": null,
   "id": "a2cff380",
   "metadata": {},
   "outputs": [],
   "source": [
    "@extends('layout/aplikasi')\n",
    "\n",
    "@section('konten')\n",
    "<h1>{{ $judul }}</h1>\n",
    "<p>Lorem ipsum dolor sit amet consectetur adipisicing elit. Eum, deleniti.</p>\n",
    "@endsection"
   ]
  }
 ],
 "metadata": {
  "kernelspec": {
   "display_name": "Python 3 (ipykernel)",
   "language": "python",
   "name": "python3"
  },
  "language_info": {
   "codemirror_mode": {
    "name": "ipython",
    "version": 3
   },
   "file_extension": ".py",
   "mimetype": "text/x-python",
   "name": "python",
   "nbconvert_exporter": "python",
   "pygments_lexer": "ipython3",
   "version": "3.10.4"
  }
 },
 "nbformat": 4,
 "nbformat_minor": 5
}
